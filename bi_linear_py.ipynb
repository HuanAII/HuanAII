{
  "nbformat": 4,
  "nbformat_minor": 0,
  "metadata": {
    "colab": {
      "provenance": [],
      "authorship_tag": "ABX9TyPE/jKJcsYfngmWNW+P0N1o",
      "include_colab_link": true
    },
    "kernelspec": {
      "name": "python3",
      "display_name": "Python 3"
    },
    "language_info": {
      "name": "python"
    }
  },
  "cells": [
    {
      "cell_type": "markdown",
      "metadata": {
        "id": "view-in-github",
        "colab_type": "text"
      },
      "source": [
        "<a href=\"https://colab.research.google.com/github/HuanAII/HuanAII/blob/main/bi_linear_py.ipynb\" target=\"_parent\"><img src=\"https://colab.research.google.com/assets/colab-badge.svg\" alt=\"Open In Colab\"/></a>"
      ]
    },
    {
      "cell_type": "code",
      "execution_count": 5,
      "metadata": {
        "colab": {
          "base_uri": "https://localhost:8080/",
          "height": 211
        },
        "id": "iLX9uo49znfE",
        "outputId": "bb614fc5-8f6e-4557-fb0c-f8154ff64fb6"
      },
      "outputs": [
        {
          "output_type": "error",
          "ename": "AttributeError",
          "evalue": "'NoneType' object has no attribute 'shape'",
          "traceback": [
            "\u001b[0;31m---------------------------------------------------------------------------\u001b[0m",
            "\u001b[0;31mAttributeError\u001b[0m                            Traceback (most recent call last)",
            "\u001b[0;32m<ipython-input-5-b9bdf2a6f50b>\u001b[0m in \u001b[0;36m<cell line: 46>\u001b[0;34m()\u001b[0m\n\u001b[1;32m     44\u001b[0m \u001b[0;31m# Ví dụ sử dụng\u001b[0m\u001b[0;34m\u001b[0m\u001b[0;34m\u001b[0m\u001b[0m\n\u001b[1;32m     45\u001b[0m \u001b[0msource\u001b[0m \u001b[0;34m=\u001b[0m \u001b[0mcv2\u001b[0m\u001b[0;34m.\u001b[0m\u001b[0mimread\u001b[0m\u001b[0;34m(\u001b[0m\u001b[0;34m'path/to/image.jpg'\u001b[0m\u001b[0;34m,\u001b[0m \u001b[0mcv2\u001b[0m\u001b[0;34m.\u001b[0m\u001b[0mIMREAD_GRAYSCALE\u001b[0m\u001b[0;34m)\u001b[0m  \u001b[0;31m# Đọc ảnh dưới dạng grayscale để đơn giản\u001b[0m\u001b[0;34m\u001b[0m\u001b[0;34m\u001b[0m\u001b[0m\n\u001b[0;32m---> 46\u001b[0;31m \u001b[0msource_h\u001b[0m\u001b[0;34m,\u001b[0m \u001b[0msource_w\u001b[0m \u001b[0;34m=\u001b[0m \u001b[0msource\u001b[0m\u001b[0;34m.\u001b[0m\u001b[0mshape\u001b[0m\u001b[0;34m\u001b[0m\u001b[0;34m\u001b[0m\u001b[0m\n\u001b[0m\u001b[1;32m     47\u001b[0m \u001b[0mtarget_h\u001b[0m\u001b[0;34m,\u001b[0m \u001b[0mtarget_w\u001b[0m \u001b[0;34m=\u001b[0m \u001b[0;36m300\u001b[0m\u001b[0;34m,\u001b[0m \u001b[0;36m300\u001b[0m  \u001b[0;31m# Kích thước đích ví dụ\u001b[0m\u001b[0;34m\u001b[0m\u001b[0;34m\u001b[0m\u001b[0m\n\u001b[1;32m     48\u001b[0m \u001b[0;34m\u001b[0m\u001b[0m\n",
            "\u001b[0;31mAttributeError\u001b[0m: 'NoneType' object has no attribute 'shape'"
          ]
        }
      ],
      "source": [
        "import cv2\n",
        "import numpy as np\n",
        "import math\n",
        "\n",
        "def linear_interpolation(p1, p2, x):\n",
        "    x1, y1 = p1\n",
        "    x2, y2 = p2\n",
        "    if x1 == x2:\n",
        "        return y1\n",
        "    else:\n",
        "        return ((x2 - x) / (x2 - x1)) * y1 + ((x - x1) / (x2 - x1)) * y2\n",
        "\n",
        "# Hàm thay đổi kích thước tuyến tính\n",
        "def bi_linear(source, source_h, source_w, target_h, target_w):\n",
        "    result = [[0] * target_w for _ in range(target_h)]\n",
        "    scale_h = source_h / target_h\n",
        "    scale_w = source_w / target_w\n",
        "\n",
        "    for i in range(target_h):\n",
        "        for j in range(target_w):\n",
        "            # Ánh xạ tọa độ pixel mục tiêu sang tọa độ pixel nguồn\n",
        "            source_x = j * scale_w\n",
        "            source_y = i * scale_h\n",
        "\n",
        "            # Tính toán bốn pixel xung quanh\n",
        "            x1 = int(math.floor(source_x))\n",
        "            x2 = min(x1 + 1, source_w - 1)\n",
        "            y1 = int(math.floor(source_y))\n",
        "            y2 = min(y1 + 1, source_h - 1)\n",
        "\n",
        "            # Nội suy\n",
        "            if (i % (1 / scale_h) == 0) and (j % (1 / scale_w) == 0):\n",
        "                result[i][j] = source[y1][x1]  # Sao chép trực tiếp nếu đúng trên lưới\n",
        "            else:\n",
        "                # Nội suy theo hướng x trước\n",
        "                r1 = linear_interpolation((x1, source[y1][x1]), (x2, source[y1][x2]), source_x)\n",
        "                r2 = linear_interpolation((x1, source[y2][x1]), (x2, source[y2][x2]), source_x)\n",
        "\n",
        "                # Nội suy theo hướng y\n",
        "                result[i][j] = linear_interpolation((y1, r1), (y2, r2), source_y)\n",
        "\n",
        "    return np.array(result, dtype=np.uint8)\n",
        "\n",
        "# Ví dụ sử dụng\n",
        "source = cv2.imread('path/to/image.jpg', cv2.IMREAD_GRAYSCALE)  # Đọc ảnh dưới dạng grayscale để đơn giản\n",
        "source_h, source_w = source.shape\n",
        "target_h, target_w = 300, 300  # Kích thước đích ví dụ\n",
        "\n",
        "resized_image = linear(source, source_h, source_w, target_h, target_w)\n",
        "cv2.imwrite('resized_image.jpg', resized_image)  # Lưu ảnh đã thay đổi kích thước\n"
      ]
    }
  ]
}