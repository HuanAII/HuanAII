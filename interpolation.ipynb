{
  "nbformat": 4,
  "nbformat_minor": 0,
  "metadata": {
    "colab": {
      "provenance": [],
      "authorship_tag": "ABX9TyPtWWrluXFL851miWNc870+",
      "include_colab_link": true
    },
    "kernelspec": {
      "name": "python3",
      "display_name": "Python 3"
    },
    "language_info": {
      "name": "python"
    }
  },
  "cells": [
    {
      "cell_type": "markdown",
      "metadata": {
        "id": "view-in-github",
        "colab_type": "text"
      },
      "source": [
        "<a href=\"https://colab.research.google.com/github/HuanAII/HuanAII/blob/main/interpolation.ipynb\" target=\"_parent\"><img src=\"https://colab.research.google.com/assets/colab-badge.svg\" alt=\"Open In Colab\"/></a>"
      ]
    },
    {
      "cell_type": "code",
      "execution_count": null,
      "metadata": {
        "id": "8ibSG5Zh6a_t",
        "colab": {
          "base_uri": "https://localhost:8080/"
        },
        "outputId": "5df69e06-7e76-45fd-ff9a-731f309da93b"
      },
      "outputs": [
        {
          "output_type": "stream",
          "name": "stdout",
          "text": [
            "8\n"
          ]
        }
      ],
      "source": [
        "import math\n",
        "import matplotlib.pyplot as plt\n",
        "\n",
        "def func1(a , x):\n",
        "    return a**x\n",
        "\n",
        "print(func1(2,3))"
      ]
    },
    {
      "cell_type": "code",
      "source": [
        "x_data=list(range(1,11))\n",
        "y_data=[func1(2,x) for x in x_data]\n",
        "plt.plot(x_data,y_data, label='2^x')\n",
        "plt.legend()"
      ],
      "metadata": {
        "colab": {
          "base_uri": "https://localhost:8080/",
          "height": 447
        },
        "id": "nQmo1JD3r1jx",
        "outputId": "31c2d6a2-30cd-45cf-fdd3-20ade641c1b8"
      },
      "execution_count": null,
      "outputs": [
        {
          "output_type": "execute_result",
          "data": {
            "text/plain": [
              "<matplotlib.legend.Legend at 0x7ca8edf699c0>"
            ]
          },
          "metadata": {},
          "execution_count": 12
        },
        {
          "output_type": "display_data",
          "data": {
            "text/plain": [
              "<Figure size 640x480 with 1 Axes>"
            ],
            "image/png": "[encoded data removed]"
          },
          "metadata": {}
        }
      ]
    },
    {
      "cell_type": "code",
      "source": [
        "import matplotlib.pyplot as plt\n",
        "import cv2\n",
        "\n",
        "img=cv2.imread('/content/IMG_1209.JPG', 0).tolist()\n",
        "print(type(img))\n",
        "plt.show()"
      ],
      "metadata": {
        "colab": {
          "base_uri": "https://localhost:8080/"
        },
        "id": "zBNHh5eqplx9",
        "outputId": "0003cb00-53d9-49ef-c9c4-ceb31c5d3e74"
      },
      "execution_count": null,
      "outputs": [
        {
          "output_type": "stream",
          "name": "stdout",
          "text": [
            "<class 'list'>\n"
          ]
        }
      ]
    },
    {
      "cell_type": "code",
      "source": [
        "import cv2\n",
        "import random\n",
        "import numpy as np\n",
        "import matplotlib.pyplot as plt\n",
        "#create an img form list\n",
        "width=200\n",
        "height=400\n",
        "data=[]\n",
        "data=[[0]*width for _ in range(height)]\n",
        "\n",
        "for i in range(height):\n",
        "    for j in range(width):\n",
        "        data[i][j]=random.randint(0,255)\n",
        "cv2.imwrite('/content/sample_data/white.jpg' , np.array(data))\n",
        "\n",
        "\n",
        "img=cv2.imread('/content/sample_data/white.jpg')\n",
        "plt.show()\n"
      ],
      "metadata": {
        "id": "o2C8lc5IjZCK"
      },
      "execution_count": 9,
      "outputs": []
    },
    {
      "cell_type": "code",
      "source": [
        "import cv2\n",
        "import matplotlib.pyplot as plt\n",
        "import numpy as np\n",
        "import math\n",
        "\n",
        "img=cv2.imread('/content/IMG_1025.JPG',0).tolist()\n",
        "height=len(img)\n",
        "width=len(img[0])\n",
        "\n",
        "data=[[0]*width for _ in range(height)]\n",
        "\n",
        "value=50\n",
        "for i in range(height):\n",
        "    for j in range(width):\n",
        "        data[i][j]=min(255,img[i][j]+value)\n",
        "\n",
        "cv2.imwrite('/content/sample_data/increase.jpg' , np.array(data))\n",
        "img=cv2.imread('/content/sample_data/increase.jpg')\n",
        "plt.show('/content/sample_data/increase.jpg')\n"
      ],
      "metadata": {
        "id": "bdytp3mT0jiL"
      },
      "execution_count": 21,
      "outputs": []
    },
    {
      "cell_type": "code",
      "source": [
        "#resizing image\n",
        "def linear_interpolation(p1,p2,x):\n",
        "    return p1[1]+(x-p1[0])*(p2[1]-p1[1])/(p2[0]-p1[0])"
      ],
      "metadata": {
        "id": "292-7YGhpZLY"
      },
      "execution_count": 22,
      "outputs": []
    },
    {
      "cell_type": "code",
      "source": [
        "p1=(1, 1)\n",
        "p2=(3,3)\n",
        "x=2\n",
        "y =linear_interpolation(p1,p2,x)\n",
        "print(y)"
      ],
      "metadata": {
        "colab": {
          "base_uri": "https://localhost:8080/"
        },
        "id": "KGTMazbbpZSZ",
        "outputId": "0c25d89e-38d7-4511-fa3e-4105454e711f"
      },
      "execution_count": 24,
      "outputs": [
        {
          "output_type": "stream",
          "name": "stdout",
          "text": [
            "2.0\n"
          ]
        }
      ]
    },
    {
      "cell_type": "code",
      "source": [
        "def noneIndex( data ):\n",
        "  index=-1\n",
        "  count=0\n",
        "  for i in data:\n",
        "    if (value==None):\n",
        "      index=count\n",
        "      break\n",
        "    ++count\n",
        "  return index"
      ],
      "metadata": {
        "id": "l1T5KxNHvo3I"
      },
      "execution_count": 26,
      "outputs": []
    },
    {
      "cell_type": "code",
      "source": [
        "def fill_data(data):\n",
        "  index=noneIndex(data)\n",
        "  if (index!=-1):\n",
        "    data[index]=linear_interpolation(data[index-1],data[index+1],index)\n",
        "  return data"
      ],
      "metadata": {
        "id": "t4eWFt4QuwHO"
      },
      "execution_count": null,
      "outputs": []
    },
    {
      "cell_type": "code",
      "source": [
        "#find end\n",
        "def find(data , index):\n",
        "  result=len(data)\n",
        "  for i in range (index+1 , len(data)):\n",
        "    if (data[i]!=None):\n",
        "      result=i\n",
        "      break\n",
        "  return result"
      ],
      "metadata": {
        "id": "iR47jFnY4Kri"
      },
      "execution_count": 28,
      "outputs": []
    },
    {
      "cell_type": "code",
      "source": [
        "def process_data(data):\n",
        "  while True :\n",
        "    index=noneIndex(data)\n",
        "    if index==-1 :\n",
        "      break\n",
        "    begin=index-1\n",
        "    end=find(data,index)\n",
        "    p1=(begin , data[begin])\n",
        "    p2=(end , data[end])\n",
        "    y=linear_interpolation(p1,p2,index)\n",
        "    data[index]=y\n",
        "  return data"
      ],
      "metadata": {
        "id": "_MxfdlVo5e8z"
      },
      "execution_count": 29,
      "outputs": []
    }
  ]
}