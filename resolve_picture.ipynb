{
  "nbformat": 4,
  "nbformat_minor": 0,
  "metadata": {
    "colab": {
      "provenance": [],
      "authorship_tag": "ABX9TyMVskcOOM3YYLmCs7vcKX4m",
      "include_colab_link": true
    },
    "kernelspec": {
      "name": "python3",
      "display_name": "Python 3"
    },
    "language_info": {
      "name": "python"
    }
  },
  "cells": [
    {
      "cell_type": "markdown",
      "metadata": {
        "id": "view-in-github",
        "colab_type": "text"
      },
      "source": [
        "<a href=\"https://colab.research.google.com/github/HuanAII/HuanAII/blob/main/resolve_picture.ipynb\" target=\"_parent\"><img src=\"https://colab.research.google.com/assets/colab-badge.svg\" alt=\"Open In Colab\"/></a>"
      ]
    },
    {
      "cell_type": "code",
      "source": [
        "def linear_interpolation(p1,p2,x):\n",
        "  x1,y1=p1\n",
        "  x2,y2=p2\n",
        "  if x1!=x2:\n",
        "    y=((x2-x)/x2-x1)*y1+((x-x1)/x2-x1)*y2\n",
        "  else :\n",
        "    y=y1;\n",
        "    return y"
      ],
      "metadata": {
        "id": "S13KY5tIIar6"
      },
      "execution_count": 8,
      "outputs": []
    },
    {
      "cell_type": "code",
      "source": [
        "def li_ld (data , k):\n",
        "  n = len(data)\n",
        "  result_len=n*k\n",
        "  result=[0]*result_len\n",
        "  for i in range (result_len-k+1):\n",
        "    if (i%k==0):\n",
        "      result[i]=data[i//k]\n",
        "    else :\n",
        "      p1=(i//k,data[i//k])\n",
        "      # lay o duoi\n",
        "      p2=(math.ceil(i/k), data[math.ceil(i/k)])\n",
        "      #lay o tren de tinh linear\n",
        "      result[i]=linear_interpolation(p1,p2,x/k)\n",
        "  return result"
      ],
      "metadata": {
        "id": "29Q-h9GoNI3Q"
      },
      "execution_count": 9,
      "outputs": []
    },
    {
      "cell_type": "code",
      "source": [],
      "metadata": {
        "id": "90chBnRtP2pl"
      },
      "execution_count": null,
      "outputs": []
    },
    {
      "cell_type": "markdown",
      "source": [],
      "metadata": {
        "id": "ujUHc8nwM1sA"
      }
    }
  ]
}