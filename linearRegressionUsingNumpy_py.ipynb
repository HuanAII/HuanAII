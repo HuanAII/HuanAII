{
  "nbformat": 4,
  "nbformat_minor": 0,
  "metadata": {
    "colab": {
      "provenance": [],
      "include_colab_link": true
    },
    "kernelspec": {
      "name": "python3",
      "display_name": "Python 3"
    },
    "language_info": {
      "name": "python"
    }
  },
  "cells": [
    {
      "cell_type": "markdown",
      "metadata": {
        "id": "view-in-github",
        "colab_type": "text"
      },
      "source": [
        "<a href=\"https://colab.research.google.com/github/HuanAII/HuanAII/blob/main/linearRegressionUsingNumpy_py.ipynb\" target=\"_parent\"><img src=\"https://colab.research.google.com/assets/colab-badge.svg\" alt=\"Open In Colab\"/></a>"
      ]
    },
    {
      "cell_type": "code",
      "source": [
        "import numpy as np\n",
        "import matplotlib.pyplot as plt\n",
        "# Load the data\n",
        "data = np.genfromtxt('/content/advertising_data.csv', delimiter=',',skip_header=1)\n",
        "N=data.shape[0]\n",
        "\n",
        "# Extract features and labels\n",
        "data_tv = data[:, 0].reshape(N, 1)\n",
        "data_radio = data[:, 1].reshape(N, 1)\n",
        "data_newspaper = data[:, 2].reshape(N, 1)\n",
        "data_sales = data[:, 3].reshape(N, 1)\n",
        "print(data_sales.dtype)\n",
        "\n",
        "# Create feature matrix by stacking ones (bias term) and areas\n",
        "features = np.hstack([np.ones((N, 1)), data_tv, data_radio, data_newspaper])\n",
        "prices = np.array(data_sales)\n",
        "# Function to make predictions (forward pass)\n",
        "def predict(x, theta):\n",
        "    return x.T.dot(theta)\n",
        "\n",
        "# Function to compute gradient\n",
        "def gradient(y_hat, y, x):\n",
        "    dtheta = 2 * (y_hat - y)\n",
        "    return dtheta\n",
        "\n",
        "# Function to update weights\n",
        "def update_weight(theta, lr, dtheta):\n",
        "    theta_new = theta - lr * dtheta\n",
        "    return theta_new\n",
        "#train one sample\n",
        "# Initialize parameters\n",
        "lr = 0.01\n",
        "epoch_max = 10\n",
        "theta = np.array([0.049, -0.34,0.1,0.1])\n",
        "\n",
        "# Training loop\n",
        "for epoch in range(epoch_max):\n",
        "    for i in range(N):\n",
        "        # Get a sample\n",
        "        x = features[i, :]\n",
        "        y = prices[i]\n",
        "\n",
        "        # Predict y_hat\n",
        "        y_hat = predict(x, theta)\n",
        "\n",
        "        # Compute loss\n",
        "        loss = (y_hat - y) * (y_hat - y)\n",
        "\n",
        "        # Compute gradient\n",
        "        dtheta = gradient(y_hat, y, x)\n",
        "\n",
        "        # Update weights\n",
        "        theta = update_weight(theta, lr, dtheta)\n",
        "\n",
        "\n"
      ],
      "metadata": {
        "colab": {
          "base_uri": "https://localhost:8080/"
        },
        "id": "oa4FdnA5EySp",
        "outputId": "c54dc9da-5c81-496f-8120-dba89e415edc"
      },
      "execution_count": null,
      "outputs": [
        {
          "output_type": "stream",
          "name": "stdout",
          "text": [
            "float64\n"
          ]
        }
      ]
    },
    {
      "cell_type": "code",
      "source": [
        "data = np.array([[6.7, 9.1],\n",
        "                   [4.6, 5.9],\n",
        "                   [3.5, 4.6],\n",
        "                   [5.5, 6.7]])\n",
        "#train n data\n",
        "n=data.shape[0]\n",
        "areas=data[:,0:1]\n",
        "prices=data[:,1:2]\n",
        "data=np.hstack([np.ones((n,1)),areas])\n",
        "print(data)\n",
        "theta=np.array([[0.049],[-0.34]])\n",
        "print(theta)\n",
        "losses=[]\n",
        "for epoch in range(20):\n",
        "  x=data\n",
        "  y=prices\n",
        "  y_hat=x.dot(theta)\n",
        "  loss=(y_hat-y)*(y_hat-y)\n",
        "  losses.append(np.mean(loss))\n",
        "  #compute gradient\n",
        "  dtheta=x.T.dot(2*(y_hat-y))\n",
        "  theta=update_weight(theta,0.01,dtheta/n)\n",
        "print(theta)\n",
        "plt.plot(losses)\n",
        "plt.xlabel('Epoch')\n",
        "plt.ylabel('Loss')\n",
        "plt.title('Loss vs Epoch')\n",
        "plt.show()"
      ],
      "metadata": {
        "colab": {
          "base_uri": "https://localhost:8080/",
          "height": 611
        },
        "id": "fTZsq_DKVrXh",
        "outputId": "b4c4a64c-1354-4adc-9c01-5af467ac1761"
      },
      "execution_count": null,
      "outputs": [
        {
          "output_type": "stream",
          "name": "stdout",
          "text": [
            "[[1.  6.7]\n",
            " [1.  4.6]\n",
            " [1.  3.5]\n",
            " [1.  5.5]]\n",
            "[[ 0.049]\n",
            " [-0.34 ]]\n",
            "[[0.32972023]\n",
            " [1.23758712]]\n"
          ]
        },
        {
          "output_type": "display_data",
          "data": {
            "text/plain": [
              "<Figure size 640x480 with 1 Axes>"
            ],
            "image/png": "[encoded data removed]"
          },
          "metadata": {}
        }
      ]
    },
    {
      "cell_type": "code",
      "source": [
        "import numpy as np\n",
        "import matplotlib.pyplot as plt\n",
        "import random\n",
        "\n",
        "# Load the data\n",
        "data = np.genfromtxt('/content/advertising_data.csv', delimiter=',', skip_header=1)\n",
        "\n",
        "# Extract features and labels\n",
        "X = data[:, :3]  # 3 features\n",
        "y = data[:, 3:]  # Labels\n",
        "N = data.shape[0]  # Số mẫu\n",
        "\n",
        "# Scale the features (mean normalization)\n",
        "def mean_normalization(X):\n",
        "    maxi = np.max(X)\n",
        "    mini = np.min(X)\n",
        "    avg = X.mean()\n",
        "    X_norm = (X - avg) / (maxi - mini)\n",
        "    return X_norm, maxi, mini, avg\n",
        "\n",
        "X, maxi, mini, avg = mean_normalization(X)\n",
        "x_b = np.hstack([np.ones((N, 1)), X])  # Thêm cột bias vào X\n",
        "\n",
        "# Predict function\n",
        "def predict(X, theta):\n",
        "    return X.dot(theta)\n",
        "\n",
        "# Initialize weights\n",
        "def initialize_weights():\n",
        "    w1 = np.random.rand()  # Trọng số ngẫu nhiên từ 0 đến 1\n",
        "    w2 = np.random.rand()  # Trọng số ngẫu nhiên từ 0 đến 1\n",
        "    w3 = np.random.rand()  # Trọng số ngẫu nhiên từ 0 đến 1\n",
        "    b = np.random.rand()\n",
        "    w=np.array([[w1],[w2],[w3],[b]])\n",
        "    return w\n",
        "\n",
        "# Gradient descent\n",
        "def gradient_decent(X, y, n_epochs, learning_rate):\n",
        "    losses = []\n",
        "    theta = initialize_weights()  # Khởi tạo vector trọng số ngẫu nhiên\n",
        "    for j in range(n_epochs):\n",
        "        for i in range(N):\n",
        "            xi = X[i:i+1]  # Lấy mẫu i\n",
        "            yi = y[i:i+1]  # Lấy nhãn i\n",
        "\n",
        "            # Tính dự đoán và loss\n",
        "            y_hat = predict(xi, theta)\n",
        "            loss = (y_hat - yi)**2\n",
        "\n",
        "            # Gradient descent step\n",
        "            d_li = 2 * (y_hat - yi)\n",
        "            d_l = xi.T.dot(d_li)  # Gradient theo theta\n",
        "            theta = theta - learning_rate * d_l\n",
        "\n",
        "        # Lưu lại loss nếu cần\n",
        "        losses.append(loss.mean())\n",
        "\n",
        "    return theta, losses\n",
        "\n",
        "# Training\n",
        "n_epochs = 100\n",
        "learning_rate = 0.01\n",
        "a=initialize_weights()\n",
        "print(a.shape)\n",
        "theta, losses = gradient_decent(x_b, y, n_epochs, learning_rate)\n",
        "\n",
        "print(\"Theta (weights):\", theta)\n"
      ],
      "metadata": {
        "colab": {
          "base_uri": "https://localhost:8080/"
        },
        "id": "vcEkcx0bM0DT",
        "outputId": "5d605123-f51e-4960-af1f-cecb08182f67"
      },
      "execution_count": null,
      "outputs": [
        {
          "output_type": "stream",
          "name": "stdout",
          "text": [
            "(4, 1)\n",
            "Theta (weights): [[11.67400037]\n",
            " [14.91323411]\n",
            " [ 1.75877711]\n",
            " [ 3.2535382 ]]\n"
          ]
        }
      ]
    },
    {
      "cell_type": "code",
      "source": [
        "def mini_batch_gradient_decent(X, y, n_epochs, learning_rate, batch_size):\n",
        "    theta = initialize_weights()  # Khởi tạo trọng số ngẫu nhiên\n",
        "    losses = []\n",
        "\n",
        "    # Trộn chỉ số\n",
        "    shuffled_indices = np.random.permutation(len(X))\n",
        "    X = X[shuffled_indices]\n",
        "    y = y[shuffled_indices]\n",
        "\n",
        "    for j in range(n_epochs):\n",
        "        for i in range(0, N, batch_size):\n",
        "            xi = X[i:i + batch_size]  # Lấy mini-batch\n",
        "            yi = y[i:i + batch_size]\n",
        "\n",
        "            output = predict(xi, theta)  # Dự đoán\n",
        "            loss = ((output - yi) ** 2 )/2 # Tính loss\n",
        "            loss_gradient = (output - yi) / batch_size  # Tính gradient\n",
        "\n",
        "            d_l = xi.T.dot(loss_gradient)  # Tính gradient cho theta\n",
        "            theta = theta - learning_rate * d_l\n",
        "            losses.append(np.sum(loss) / batch_size)  # Lưu loss trung bình\n",
        "    return theta, losses\n",
        "#training\n",
        "theta, losses = mini_batch_gradient_decent(x_b, y, n_epochs, learning_rate,2)\n",
        "\n",
        "print(\"Theta (weights):\", theta)\n"
      ],
      "metadata": {
        "colab": {
          "base_uri": "https://localhost:8080/"
        },
        "id": "MdQLcQubM4Zo",
        "outputId": "d3ad6ec6-6411-43dc-f969-893a1425b7ae"
      },
      "execution_count": null,
      "outputs": [
        {
          "output_type": "stream",
          "name": "stdout",
          "text": [
            "Theta (weights): [[12.19577299]\n",
            " [10.6780585 ]\n",
            " [-0.20863718]\n",
            " [ 0.10008961]]\n"
          ]
        }
      ]
    },
    {
      "cell_type": "code",
      "source": [
        "#Toan bo sample\n",
        "def batch_gradient_decent(X,y,n_epochs,learning_rate):\n",
        "  theta=initialize_weights()\n",
        "  losses=[]\n",
        "  for j in range(n_epochs):\n",
        "    output=predict(X, theta)\n",
        "    loss=((output-y)**2)\n",
        "    loss_gradient=2*(output-y)/N\n",
        "    d_l=X.T.dot(loss_gradient)\n",
        "    theta=theta-learning_rate*d_l\n",
        "    losses.append(np.sum(loss)/N)\n",
        "  return theta,losses\n",
        "\n",
        "theta, losses = batch_gradient_decent(x_b, y, n_epochs, learning_rate)\n",
        "print(\"Theta (weights):\", theta)\n",
        "plt.plot(losses)\n",
        "plt.show()"
      ],
      "metadata": {
        "colab": {
          "base_uri": "https://localhost:8080/",
          "height": 504
        },
        "id": "XBlN-FutsT2G",
        "outputId": "28197c51-f8da-4cf2-a0d5-82aef557aa67"
      },
      "execution_count": null,
      "outputs": [
        {
          "output_type": "stream",
          "name": "stdout",
          "text": [
            "Theta (weights): [[11.96306079]\n",
            " [ 4.92964239]\n",
            " [-0.94253313]\n",
            " [ 0.02154913]]\n"
          ]
        },
        {
          "output_type": "display_data",
          "data": {
            "text/plain": [
              "<Figure size 640x480 with 1 Axes>"
            ],
            "image/png": "[encoded data removed]"
          },
          "metadata": {}
        }
      ]
    },
    {
      "cell_type": "code",
      "source": [
        "#Truonghop data set khong qua lon thi ta co the dung normal_equationm\n",
        "def normal_equation(X, y):\n",
        "    return np.linalg.inv(X.T.dot(X)).dot(X.T).dot(y)\n",
        "normal_theta = normal_equation(x_b, y)\n",
        "print(\"Theta (weights):\", normal_theta)\n"
      ],
      "metadata": {
        "colab": {
          "base_uri": "https://localhost:8080/"
        },
        "id": "i_XJE-IHuU9I",
        "outputId": "b2dbc8a2-c78d-493e-cec2-4503f518dec7"
      },
      "execution_count": null,
      "outputs": [
        {
          "output_type": "stream",
          "name": "stdout",
          "text": [
            "Theta (weights): [[13.91547737]\n",
            " [15.4118025 ]\n",
            " [17.3349738 ]\n",
            " [ 4.40941317]]\n"
          ]
        }
      ]
    },
    {
      "cell_type": "code",
      "source": [
        "#K_ford_Validation\n",
        "from sklearn.model_selection import train_test_split\n",
        "X_train,X_test,y_train,y_test=train_test_split(X_b, y , test_size=0.2,random_state=42)\n",
        "k=5\n",
        "step_fold=int(X_train.shape[0]/k)\n",
        "x_fold1=X_train[:step_fold,:]\n",
        "y_fold1=y_train[:step_fold,:]\n",
        "x_fold2=X_train[step_fold:2*step_fold,:]\n",
        "y_fold2=y_train[step_fold:2*step_fold,:]\n",
        "y_fold3=y_train[2*step_fold:3*step_fold,:]\n",
        "x_fold3=X_train[2*step_fold:3*step_fold,:]\n",
        "y_fold4=y_train[3*step_fold:4*step_fold,:]\n",
        "x_fold4=X_train[3*step_fold:4*step_fold,:]\n",
        "x_fold5=X_train[4*step_fold:,:]\n",
        "y_fold5=y_train[4*step_fold:,:]\n",
        "#chia du lieu\n",
        "#crossValidation\n",
        "cr_x_train_1=np.r_(x_fold2,x_fold3,x_fold4,x_fold5)\n",
        "cr_y_train_1=np.r_(y_fold2,y_fold3,y_fold4,y_fold5)\n",
        "cr_x_test_1=x_fold5\n",
        "cr_y_test_1=y_fold5\n",
        "bgd_thetas1,losses1=batch_gradient_decent(cr_x_train_1,cr_y_train_1,n_epochs,learning_rate)\n",
        "rms_1=compute_rms(bgd_thetas[-1],cr_x_test_1,cr_y_test_1)#kiem tra do loi\n",
        "#tuong tu voi tung X_train khac\n",
        "\n",
        "\n",
        "\n"
      ],
      "metadata": {
        "colab": {
          "base_uri": "https://localhost:8080/",
          "height": 211
        },
        "id": "d4W48CMX5ie7",
        "outputId": "db6ef93b-a475-4fad-b55b-6c33afd7538e"
      },
      "execution_count": 5,
      "outputs": [
        {
          "output_type": "error",
          "ename": "NameError",
          "evalue": "name 'X_b' is not defined",
          "traceback": [
            "\u001b[0;31m---------------------------------------------------------------------------\u001b[0m",
            "\u001b[0;31mNameError\u001b[0m                                 Traceback (most recent call last)",
            "\u001b[0;32m<ipython-input-5-eb9005f4d037>\u001b[0m in \u001b[0;36m<cell line: 3>\u001b[0;34m()\u001b[0m\n\u001b[1;32m      1\u001b[0m \u001b[0;31m#K_ford_Validation\u001b[0m\u001b[0;34m\u001b[0m\u001b[0;34m\u001b[0m\u001b[0m\n\u001b[1;32m      2\u001b[0m \u001b[0;32mfrom\u001b[0m \u001b[0msklearn\u001b[0m\u001b[0;34m.\u001b[0m\u001b[0mmodel_selection\u001b[0m \u001b[0;32mimport\u001b[0m \u001b[0mtrain_test_split\u001b[0m\u001b[0;34m\u001b[0m\u001b[0;34m\u001b[0m\u001b[0m\n\u001b[0;32m----> 3\u001b[0;31m \u001b[0mX_train\u001b[0m\u001b[0;34m,\u001b[0m\u001b[0mX_test\u001b[0m\u001b[0;34m,\u001b[0m\u001b[0my_train\u001b[0m\u001b[0;34m,\u001b[0m\u001b[0my_test\u001b[0m\u001b[0;34m=\u001b[0m\u001b[0mtrain_test_split\u001b[0m\u001b[0;34m(\u001b[0m\u001b[0mX_b\u001b[0m\u001b[0;34m,\u001b[0m \u001b[0my\u001b[0m \u001b[0;34m,\u001b[0m \u001b[0mtest_size\u001b[0m\u001b[0;34m=\u001b[0m\u001b[0;36m0.2\u001b[0m\u001b[0;34m,\u001b[0m\u001b[0mrandom_state\u001b[0m\u001b[0;34m=\u001b[0m\u001b[0;36m42\u001b[0m\u001b[0;34m)\u001b[0m\u001b[0;34m\u001b[0m\u001b[0;34m\u001b[0m\u001b[0m\n\u001b[0m\u001b[1;32m      4\u001b[0m \u001b[0mk\u001b[0m\u001b[0;34m=\u001b[0m\u001b[0;36m5\u001b[0m\u001b[0;34m\u001b[0m\u001b[0;34m\u001b[0m\u001b[0m\n\u001b[1;32m      5\u001b[0m \u001b[0mstep_fold\u001b[0m\u001b[0;34m=\u001b[0m\u001b[0mint\u001b[0m\u001b[0;34m(\u001b[0m\u001b[0mX_train\u001b[0m\u001b[0;34m.\u001b[0m\u001b[0mshape\u001b[0m\u001b[0;34m[\u001b[0m\u001b[0;36m0\u001b[0m\u001b[0;34m]\u001b[0m\u001b[0;34m/\u001b[0m\u001b[0mk\u001b[0m\u001b[0;34m)\u001b[0m\u001b[0;34m\u001b[0m\u001b[0;34m\u001b[0m\u001b[0m\n",
            "\u001b[0;31mNameError\u001b[0m: name 'X_b' is not defined"
          ]
        }
      ]
    },
    {
      "cell_type": "code",
      "source": [
        "#Ung dung thu vien\n",
        "from sklearn.model_selection import KFold\n",
        "from sklearn.model_selection import StratifiedKFold\n",
        "#StratifiedKFord\n",
        "\n",
        "\n",
        "\n",
        "\n",
        "kf=KFold(n_splits=5,shuffle=True)\n",
        "for i , (train_index,test_index) in enumerate(kf.split(X_train, y_train )):\n",
        "\n",
        "  #tra ve mot mang train_index , test_index\n",
        "  print(f\"Fold {i+1}:\")\n",
        "  print(f\"Train: index={train_index}\")\n",
        "  print(f\"Test: index={test_index}\")\n",
        "  #ham tinh\n",
        "  bgd_thetas1,losses1=batch_gradient_decent(cr_x_train_1,cr_y_train_1,n_epochs,learning_rate)\n",
        "  rms_1=compute_rms(bgd_thetas[-1],cr_x_test_1,cr_y_test_1)#kiem tra do loi\n",
        "  print(f\"RMS: {rms_1}\")\n",
        "\n"
      ],
      "metadata": {
        "colab": {
          "base_uri": "https://localhost:8080/",
          "height": 211
        },
        "id": "udTa7Kv5Bnt8",
        "outputId": "4d9268e4-2eed-442a-f475-a2e4fa856def"
      },
      "execution_count": 7,
      "outputs": [
        {
          "output_type": "error",
          "ename": "NameError",
          "evalue": "name 'X_train' is not defined",
          "traceback": [
            "\u001b[0;31m---------------------------------------------------------------------------\u001b[0m",
            "\u001b[0;31mNameError\u001b[0m                                 Traceback (most recent call last)",
            "\u001b[0;32m<ipython-input-7-d6215368afae>\u001b[0m in \u001b[0;36m<cell line: 5>\u001b[0;34m()\u001b[0m\n\u001b[1;32m      3\u001b[0m \u001b[0;32mfrom\u001b[0m \u001b[0msklearn\u001b[0m\u001b[0;34m.\u001b[0m\u001b[0mmodel_selection\u001b[0m \u001b[0;32mimport\u001b[0m \u001b[0mStratifiedKFold\u001b[0m\u001b[0;34m\u001b[0m\u001b[0;34m\u001b[0m\u001b[0m\n\u001b[1;32m      4\u001b[0m \u001b[0mkf\u001b[0m\u001b[0;34m=\u001b[0m\u001b[0mKFold\u001b[0m\u001b[0;34m(\u001b[0m\u001b[0mn_splits\u001b[0m\u001b[0;34m=\u001b[0m\u001b[0;36m5\u001b[0m\u001b[0;34m,\u001b[0m\u001b[0mshuffle\u001b[0m\u001b[0;34m=\u001b[0m\u001b[0;32mTrue\u001b[0m\u001b[0;34m)\u001b[0m\u001b[0;34m\u001b[0m\u001b[0;34m\u001b[0m\u001b[0m\n\u001b[0;32m----> 5\u001b[0;31m \u001b[0;32mfor\u001b[0m \u001b[0mi\u001b[0m \u001b[0;34m,\u001b[0m \u001b[0;34m(\u001b[0m\u001b[0mtrain_index\u001b[0m\u001b[0;34m,\u001b[0m\u001b[0mtest_index\u001b[0m\u001b[0;34m)\u001b[0m \u001b[0;32min\u001b[0m \u001b[0menumerate\u001b[0m\u001b[0;34m(\u001b[0m\u001b[0mkf\u001b[0m\u001b[0;34m.\u001b[0m\u001b[0msplit\u001b[0m\u001b[0;34m(\u001b[0m\u001b[0mX_train\u001b[0m\u001b[0;34m,\u001b[0m \u001b[0my_train\u001b[0m \u001b[0;34m)\u001b[0m\u001b[0;34m)\u001b[0m\u001b[0;34m:\u001b[0m\u001b[0;34m\u001b[0m\u001b[0;34m\u001b[0m\u001b[0m\n\u001b[0m\u001b[1;32m      6\u001b[0m \u001b[0;34m\u001b[0m\u001b[0m\n\u001b[1;32m      7\u001b[0m   \u001b[0;31m#tra ve mot mang train_index , test_index\u001b[0m\u001b[0;34m\u001b[0m\u001b[0;34m\u001b[0m\u001b[0m\n",
            "\u001b[0;31mNameError\u001b[0m: name 'X_train' is not defined"
          ]
        }
      ]
    }
  ]
}